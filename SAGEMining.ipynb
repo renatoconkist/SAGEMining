{
 "cells": [
  {
   "cell_type": "markdown",
   "id": "68cd071d",
   "metadata": {},
   "source": [
    "# Mineração de Regras de Associação do Dataset SAGE\n",
    "_Refinamento e busca de padrões para desenvolvimento de experiências gamificadas_\n",
    "\n",
    "Para o primeiro trabalho da disciplina de Inteligência Computacional, devemos selecionar um dataset público para mineração de dados resultando na coleta de regras de associação.\n",
    "\n",
    "O dataset utilizado foi publicado através de uma pesquisa com o intuito de ampliar a base de dados ligadas a jogos gamificados com o propósito de analisar as preferências de usuários e como enchergam diversas características ligadas ao game design.\n",
    "\n",
    "## Link para publicação\n",
    "[SAGE: A dataset for Smart Adaptive Gamified Education](https://sol.sbc.org.br/index.php/sbie/article/view/26738/26557)\n",
    "\n",
    "O [dataset original](https://github.com/ArmandoToda/Paper_SBIE2023) pode ser encontrado no repositório do autor no github."
   ]
  },
  {
   "cell_type": "markdown",
   "id": "aa9b9903",
   "metadata": {},
   "source": [
    "# Metodologia\n",
    "Criei o repositório e arquivo jupyter para executar as etapas de mineração necessárias para busca de regras de associação:"
   ]
  },
  {
   "cell_type": "markdown",
   "id": "c540b0ad",
   "metadata": {},
   "source": [
    "## Definição de variáveis para operação do projeto"
   ]
  },
  {
   "cell_type": "code",
   "execution_count": 152,
   "id": "7b7dcfa2",
   "metadata": {},
   "outputs": [],
   "source": [
    "\n",
    "import os\n",
    "import pandas as pd\n",
    "import requests\n",
    "\n",
    "##Variáveis iniciais de referência\n",
    "csv_filename = \"SAGEDataset.csv\"\n",
    "# URL do arquivo XLSX no GitHub\n",
    "xlsx_url = \"https://github.com/ArmandoToda/Paper_SBIE2023/raw/main/DATA.xlsx\"\n",
    "# Nome temporário para o arquivo XLSX baixado\n",
    "xlsx_filename = \"DATA.xlsx\"\n",
    "\n",
    "##Filtro de dados podem ser usados para montar nichos diferentes no dataset\n",
    "# Exemplo de filtro para o gênero de jogo, país de origem, gênero do jogador, idade, etc.\n",
    "filterBy = {\n",
    "    # 'country': ['br', 'us', 'gr', 'uk', 'cn', 'it', 'in', 'es', 'de', 'fr'],\n",
    "    # 'game_genre': ['action'],\n",
    "}\n",
    "\n",
    "min_products = 1\n",
    "min_support = 0.2\n",
    "confidence = 0.8\n"
   ]
  },
  {
   "cell_type": "markdown",
   "id": "ac44296d",
   "metadata": {},
   "source": [
    "## Obtenção do dataset"
   ]
  },
  {
   "cell_type": "code",
   "execution_count": 153,
   "id": "f8ae5786",
   "metadata": {},
   "outputs": [
    {
     "name": "stdout",
     "output_type": "stream",
     "text": [
      "SAGEDataset.csv já existe. Nenhuma ação necessária.\n"
     ]
    }
   ],
   "source": [
    "if not os.path.exists(\"assets/\"+csv_filename):\n",
    "    print(f\"{csv_filename} não encontrado. Baixando e convertendo...\")\n",
    "    \n",
    "    # Baixa o arquivo XLSX\n",
    "    response = requests.get(xlsx_url)\n",
    "    if response.status_code == 200:\n",
    "        with open(xlsx_filename, \"wb\") as file:\n",
    "            file.write(response.content)\n",
    "        print(f\"Arquivo baixado: {xlsx_filename}\")\n",
    "    else:\n",
    "        raise Exception(f\"Falha ao baixar o arquivo. Status code: {response.status_code}\")\n",
    "    \n",
    "    \"\"\"Converte um arquivo XLSX para CSV.\"\"\"\n",
    "    try:\n",
    "        data = pd.read_excel(xlsx_filename)\n",
    "        data.to_csv(\"assets/\"+csv_filename, index=False)\n",
    "        print(f\"Arquivo convertido para CSV: {csv_filename}\")\n",
    "    except Exception as e:\n",
    "        raise Exception(f\"Erro ao converter XLSX para CSV: {e}\")\n",
    "    \n",
    "    # Remove o arquivo XLSX temporário\n",
    "    if os.path.exists(xlsx_filename):\n",
    "        os.remove(xlsx_filename)\n",
    "        print(f\"Arquivo temporário removido: {xlsx_filename}\")\n",
    "else:\n",
    "    print(f\"{csv_filename} já existe. Nenhuma ação necessária.\")"
   ]
  },
  {
   "cell_type": "markdown",
   "id": "18e77143",
   "metadata": {},
   "source": []
  },
  {
   "cell_type": "markdown",
   "id": "12ce5139",
   "metadata": {},
   "source": [
    "## Preparação dos dados"
   ]
  },
  {
   "cell_type": "code",
   "execution_count": 154,
   "id": "12dcaa21",
   "metadata": {},
   "outputs": [
    {
     "name": "stdout",
     "output_type": "stream",
     "text": [
      "Erro ao carregar o arquivo CSV: 'str' object has no attribute 'contains'\n"
     ]
    }
   ],
   "source": [
    "try:\n",
    "    df = pd.read_csv(\"assets/\"+csv_filename)  # Use csv_filename em vez de file_path\n",
    "    \n",
    "    # Remover duplicatas\n",
    "    df.drop_duplicates(inplace=True)\n",
    "\n",
    "    # Remover linhas inválidas (com valores NaN)\n",
    "    df.dropna(inplace=True)\n",
    "    \n",
    "    df['gender'] = df['gender'].apply(lambda x: \"male\" if x == \"Male\" else \"female\" if x == \"Female\" else \"other\")\n",
    "    df['age_group'] = pd.cut(df['age_in_years'], bins=[0, 14, 24, 34, 44, float('inf')], \n",
    "                            labels=['<15', '15-24', '25-34', '35-44', '>44'])\n",
    "    df.drop('age_in_years', axis=1, inplace=True)\n",
    "    df['years_playing'] = pd.cut(df['years_playing'], bins=[0, 10, 20, 30, float('inf')], \n",
    "                                labels=['<10', '10-20', '21-30', '>30'])\n",
    "    \n",
    "    # print(df['country'].unique())\n",
    "    \n",
    "    country_mapping = {\n",
    "        'Brazil': 'br',\n",
    "        'United States': 'us',\n",
    "        'Greece': 'gr',\n",
    "        'United Kingdom': 'uk',\n",
    "        'China': 'cn',\n",
    "        'Italy': 'it',\n",
    "        'India': 'in',\n",
    "        'Spain': 'es',\n",
    "        'Germany': 'de',\n",
    "        'France': 'fr',\n",
    "        'Turkey': 'tr',\n",
    "        'South Korea': 'kr',\n",
    "        'Japan': 'jp',\n",
    "        'Russia': 'ru',\n",
    "        'Canada': 'ca',\n",
    "        'Australia': 'au',\n",
    "        'Mexico': 'mx',\n",
    "        'Netherlands': 'nl',\n",
    "        'Argentina': 'ar',\n",
    "        'Sweden': 'se',\n",
    "        'Norway': 'no',\n",
    "        'Finland': 'fi',\n",
    "        'Denmark': 'dk',\n",
    "        'Belgium': 'be',\n",
    "        'Poland': 'pl',\n",
    "        'Portugal': 'pt',\n",
    "        'Switzerland': 'ch',\n",
    "        'Austria': 'at',\n",
    "        # Adicione outros países conforme necessário\n",
    "    }\n",
    "    df['country'] = df['country'].apply(lambda x: country_mapping[x] if x in country_mapping else 'other')\n",
    "    \n",
    "    df['time_per_week'] = pd.cut(df['time_per_week'], bins=[0, 5, 15, 25, 30, float('inf')], \n",
    "                                labels=['<5', '5-15', '16-25', '26-30', '>30'])\n",
    "    df['game_genre'] = df['game_genre'].str.split(':').str[0].str.lower()\n",
    "    \n",
    "    df['game_setting'] = df['game_setting'].apply(lambda x: \"multiplayer\" if x.contains('Multiplayer') else \"singleplayer\")\n",
    "    \n",
    "    print(\"Primeiras linhas do dataset:\")\n",
    "    print(df.head())  # Exibe as primeiras linhas do DataFrame\n",
    "    \n",
    "    # Salvar o DataFrame limpo (opcional)\n",
    "    cleaned_file_path = \"assets/Cleaned_\" + csv_filename\n",
    "    df.to_csv(cleaned_file_path, index=False)\n",
    "    print(f\"\\nDataset limpo salvo em: {cleaned_file_path}\")\n",
    "except Exception as e:\n",
    "    print(f\"Erro ao carregar o arquivo CSV: {e}\")"
   ]
  },
  {
   "cell_type": "markdown",
   "id": "80881e8b",
   "metadata": {},
   "source": [
    "## Binarização de Dataset"
   ]
  },
  {
   "cell_type": "code",
   "execution_count": 155,
   "id": "a200b3d4",
   "metadata": {},
   "outputs": [
    {
     "name": "stdout",
     "output_type": "stream",
     "text": [
      "Removendo 7 colunas de binarização que estão presentes em filterBy.\n"
     ]
    },
    {
     "data": {
      "application/vnd.microsoft.datawrangler.viewer.v0+json": {
       "columns": [
        {
         "name": "index",
         "rawType": "int64",
         "type": "integer"
        },
        {
         "name": "points",
         "rawType": "int64",
         "type": "integer"
        },
        {
         "name": "levels",
         "rawType": "int64",
         "type": "integer"
        },
        {
         "name": "cooperation",
         "rawType": "int64",
         "type": "integer"
        },
        {
         "name": "competition",
         "rawType": "int64",
         "type": "integer"
        },
        {
         "name": "renovation",
         "rawType": "int64",
         "type": "integer"
        },
        {
         "name": "progression",
         "rawType": "int64",
         "type": "integer"
        },
        {
         "name": "objectives",
         "rawType": "int64",
         "type": "integer"
        },
        {
         "name": "puzzles",
         "rawType": "int64",
         "type": "integer"
        },
        {
         "name": "novelty",
         "rawType": "int64",
         "type": "integer"
        },
        {
         "name": "chances",
         "rawType": "int64",
         "type": "integer"
        },
        {
         "name": "social_pressure",
         "rawType": "int64",
         "type": "integer"
        },
        {
         "name": "acknowledgment",
         "rawType": "int64",
         "type": "integer"
        },
        {
         "name": "stats",
         "rawType": "int64",
         "type": "integer"
        },
        {
         "name": "rarity",
         "rawType": "int64",
         "type": "integer"
        },
        {
         "name": "imposed_choice",
         "rawType": "int64",
         "type": "integer"
        },
        {
         "name": "time_pressure",
         "rawType": "int64",
         "type": "integer"
        },
        {
         "name": "economy",
         "rawType": "int64",
         "type": "integer"
        },
        {
         "name": "sensation",
         "rawType": "int64",
         "type": "integer"
        },
        {
         "name": "reputation",
         "rawType": "int64",
         "type": "integer"
        },
        {
         "name": "narrative",
         "rawType": "int64",
         "type": "integer"
        },
        {
         "name": "storytelling",
         "rawType": "int64",
         "type": "integer"
        },
        {
         "name": "gender_female",
         "rawType": "bool",
         "type": "boolean"
        },
        {
         "name": "gender_male",
         "rawType": "bool",
         "type": "boolean"
        },
        {
         "name": "gender_other",
         "rawType": "bool",
         "type": "boolean"
        },
        {
         "name": "age_group_<15",
         "rawType": "bool",
         "type": "boolean"
        },
        {
         "name": "age_group_15-24",
         "rawType": "bool",
         "type": "boolean"
        },
        {
         "name": "age_group_25-34",
         "rawType": "bool",
         "type": "boolean"
        },
        {
         "name": "age_group_35-44",
         "rawType": "bool",
         "type": "boolean"
        },
        {
         "name": "age_group_>44",
         "rawType": "bool",
         "type": "boolean"
        },
        {
         "name": "country_at",
         "rawType": "bool",
         "type": "boolean"
        },
        {
         "name": "country_au",
         "rawType": "bool",
         "type": "boolean"
        },
        {
         "name": "country_be",
         "rawType": "bool",
         "type": "boolean"
        },
        {
         "name": "country_br",
         "rawType": "bool",
         "type": "boolean"
        },
        {
         "name": "country_ca",
         "rawType": "bool",
         "type": "boolean"
        },
        {
         "name": "country_ch",
         "rawType": "bool",
         "type": "boolean"
        },
        {
         "name": "country_cn",
         "rawType": "bool",
         "type": "boolean"
        },
        {
         "name": "country_de",
         "rawType": "bool",
         "type": "boolean"
        },
        {
         "name": "country_dk",
         "rawType": "bool",
         "type": "boolean"
        },
        {
         "name": "country_es",
         "rawType": "bool",
         "type": "boolean"
        },
        {
         "name": "country_fi",
         "rawType": "bool",
         "type": "boolean"
        },
        {
         "name": "country_fr",
         "rawType": "bool",
         "type": "boolean"
        },
        {
         "name": "country_gr",
         "rawType": "bool",
         "type": "boolean"
        },
        {
         "name": "country_in",
         "rawType": "bool",
         "type": "boolean"
        },
        {
         "name": "country_it",
         "rawType": "bool",
         "type": "boolean"
        },
        {
         "name": "country_jp",
         "rawType": "bool",
         "type": "boolean"
        },
        {
         "name": "country_mx",
         "rawType": "bool",
         "type": "boolean"
        },
        {
         "name": "country_nl",
         "rawType": "bool",
         "type": "boolean"
        },
        {
         "name": "country_no",
         "rawType": "bool",
         "type": "boolean"
        },
        {
         "name": "country_other",
         "rawType": "bool",
         "type": "boolean"
        },
        {
         "name": "country_pl",
         "rawType": "bool",
         "type": "boolean"
        },
        {
         "name": "country_pt",
         "rawType": "bool",
         "type": "boolean"
        },
        {
         "name": "country_ru",
         "rawType": "bool",
         "type": "boolean"
        },
        {
         "name": "country_se",
         "rawType": "bool",
         "type": "boolean"
        },
        {
         "name": "country_tr",
         "rawType": "bool",
         "type": "boolean"
        },
        {
         "name": "country_uk",
         "rawType": "bool",
         "type": "boolean"
        },
        {
         "name": "country_us",
         "rawType": "bool",
         "type": "boolean"
        },
        {
         "name": "years_playing_<10",
         "rawType": "bool",
         "type": "boolean"
        },
        {
         "name": "years_playing_10-20",
         "rawType": "bool",
         "type": "boolean"
        },
        {
         "name": "years_playing_21-30",
         "rawType": "bool",
         "type": "boolean"
        },
        {
         "name": "years_playing_>30",
         "rawType": "bool",
         "type": "boolean"
        },
        {
         "name": "time_per_week_<5",
         "rawType": "bool",
         "type": "boolean"
        },
        {
         "name": "time_per_week_5-15",
         "rawType": "bool",
         "type": "boolean"
        },
        {
         "name": "time_per_week_16-25",
         "rawType": "bool",
         "type": "boolean"
        },
        {
         "name": "time_per_week_26-30",
         "rawType": "bool",
         "type": "boolean"
        },
        {
         "name": "time_per_week_>30",
         "rawType": "bool",
         "type": "boolean"
        },
        {
         "name": "game_genre_action",
         "rawType": "bool",
         "type": "boolean"
        },
        {
         "name": "game_genre_adventure",
         "rawType": "bool",
         "type": "boolean"
        },
        {
         "name": "game_genre_board games",
         "rawType": "bool",
         "type": "boolean"
        },
        {
         "name": "game_genre_card games",
         "rawType": "bool",
         "type": "boolean"
        },
        {
         "name": "game_genre_casual",
         "rawType": "bool",
         "type": "boolean"
        },
        {
         "name": "game_genre_fighting",
         "rawType": "bool",
         "type": "boolean"
        },
        {
         "name": "game_genre_other",
         "rawType": "bool",
         "type": "boolean"
        },
        {
         "name": "game_genre_racing",
         "rawType": "bool",
         "type": "boolean"
        },
        {
         "name": "game_genre_rhythm",
         "rawType": "bool",
         "type": "boolean"
        },
        {
         "name": "game_genre_role playing game",
         "rawType": "bool",
         "type": "boolean"
        },
        {
         "name": "game_genre_simulation",
         "rawType": "bool",
         "type": "boolean"
        },
        {
         "name": "game_genre_sports",
         "rawType": "bool",
         "type": "boolean"
        },
        {
         "name": "game_genre_strategy",
         "rawType": "bool",
         "type": "boolean"
        },
        {
         "name": "game_setting_Multiplayer (Playing with other people)",
         "rawType": "bool",
         "type": "boolean"
        },
        {
         "name": "game_setting_Singleplayer (Playing solo)",
         "rawType": "bool",
         "type": "boolean"
        }
       ],
       "conversionMethod": "pd.DataFrame",
       "ref": "71e4b041-30f9-4e64-81e8-39c7c06b715e",
       "rows": [
        [
         "0",
         "1",
         "1",
         "0",
         "1",
         "0",
         "1",
         "1",
         "0",
         "1",
         "0",
         "0",
         "1",
         "1",
         "1",
         "0",
         "0",
         "1",
         "1",
         "1",
         "1",
         "1",
         "False",
         "True",
         "False",
         "False",
         "False",
         "True",
         "False",
         "False",
         "False",
         "False",
         "False",
         "False",
         "False",
         "False",
         "False",
         "False",
         "False",
         "False",
         "False",
         "False",
         "False",
         "False",
         "False",
         "False",
         "False",
         "False",
         "False",
         "False",
         "False",
         "False",
         "False",
         "False",
         "False",
         "True",
         "False",
         "False",
         "False",
         "True",
         "False",
         "False",
         "False",
         "False",
         "True",
         "False",
         "True",
         "False",
         "False",
         "False",
         "False",
         "False",
         "False",
         "False",
         "False",
         "False",
         "False",
         "False",
         "False",
         "False",
         "True"
        ],
        [
         "1",
         "0",
         "0",
         "0",
         "1",
         "0",
         "1",
         "0",
         "0",
         "0",
         "0",
         "0",
         "0",
         "1",
         "1",
         "0",
         "0",
         "0",
         "1",
         "0",
         "1",
         "1",
         "False",
         "True",
         "False",
         "True",
         "False",
         "False",
         "False",
         "False",
         "False",
         "False",
         "False",
         "False",
         "False",
         "False",
         "False",
         "False",
         "False",
         "False",
         "False",
         "False",
         "False",
         "False",
         "False",
         "False",
         "False",
         "False",
         "False",
         "False",
         "False",
         "False",
         "False",
         "False",
         "False",
         "False",
         "True",
         "True",
         "False",
         "False",
         "False",
         "False",
         "False",
         "False",
         "True",
         "False",
         "True",
         "False",
         "False",
         "False",
         "False",
         "False",
         "False",
         "False",
         "False",
         "False",
         "False",
         "False",
         "False",
         "False",
         "True"
        ],
        [
         "2",
         "1",
         "1",
         "1",
         "1",
         "0",
         "1",
         "0",
         "1",
         "1",
         "0",
         "0",
         "1",
         "0",
         "0",
         "1",
         "0",
         "1",
         "0",
         "0",
         "1",
         "1",
         "True",
         "False",
         "False",
         "False",
         "True",
         "False",
         "False",
         "False",
         "False",
         "False",
         "False",
         "False",
         "False",
         "False",
         "False",
         "False",
         "False",
         "False",
         "False",
         "False",
         "False",
         "False",
         "False",
         "False",
         "False",
         "False",
         "False",
         "False",
         "False",
         "False",
         "False",
         "False",
         "False",
         "False",
         "True",
         "True",
         "False",
         "False",
         "False",
         "True",
         "False",
         "False",
         "False",
         "False",
         "True",
         "False",
         "False",
         "False",
         "False",
         "False",
         "False",
         "False",
         "False",
         "False",
         "False",
         "False",
         "False",
         "True",
         "False"
        ],
        [
         "3",
         "1",
         "1",
         "0",
         "0",
         "0",
         "1",
         "1",
         "1",
         "0",
         "1",
         "0",
         "0",
         "1",
         "0",
         "0",
         "0",
         "1",
         "1",
         "0",
         "1",
         "1",
         "False",
         "True",
         "False",
         "False",
         "True",
         "False",
         "False",
         "False",
         "False",
         "False",
         "False",
         "True",
         "False",
         "False",
         "False",
         "False",
         "False",
         "False",
         "False",
         "False",
         "False",
         "False",
         "False",
         "False",
         "False",
         "False",
         "False",
         "False",
         "False",
         "False",
         "False",
         "False",
         "False",
         "False",
         "False",
         "False",
         "True",
         "False",
         "False",
         "False",
         "True",
         "False",
         "False",
         "False",
         "True",
         "False",
         "False",
         "False",
         "False",
         "False",
         "False",
         "False",
         "False",
         "False",
         "False",
         "False",
         "False",
         "False",
         "True"
        ],
        [
         "4",
         "0",
         "0",
         "1",
         "0",
         "0",
         "0",
         "1",
         "0",
         "0",
         "0",
         "0",
         "1",
         "0",
         "0",
         "0",
         "0",
         "0",
         "1",
         "0",
         "0",
         "0",
         "False",
         "True",
         "False",
         "False",
         "True",
         "False",
         "False",
         "False",
         "False",
         "False",
         "False",
         "True",
         "False",
         "False",
         "False",
         "False",
         "False",
         "False",
         "False",
         "False",
         "False",
         "False",
         "False",
         "False",
         "False",
         "False",
         "False",
         "False",
         "False",
         "False",
         "False",
         "False",
         "False",
         "False",
         "False",
         "False",
         "True",
         "False",
         "False",
         "True",
         "False",
         "False",
         "False",
         "False",
         "True",
         "False",
         "False",
         "False",
         "False",
         "False",
         "False",
         "False",
         "False",
         "False",
         "False",
         "False",
         "False",
         "False",
         "True"
        ]
       ],
       "shape": {
        "columns": 80,
        "rows": 5
       }
      },
      "text/html": [
       "<div>\n",
       "<style scoped>\n",
       "    .dataframe tbody tr th:only-of-type {\n",
       "        vertical-align: middle;\n",
       "    }\n",
       "\n",
       "    .dataframe tbody tr th {\n",
       "        vertical-align: top;\n",
       "    }\n",
       "\n",
       "    .dataframe thead th {\n",
       "        text-align: right;\n",
       "    }\n",
       "</style>\n",
       "<table border=\"1\" class=\"dataframe\">\n",
       "  <thead>\n",
       "    <tr style=\"text-align: right;\">\n",
       "      <th></th>\n",
       "      <th>points</th>\n",
       "      <th>levels</th>\n",
       "      <th>cooperation</th>\n",
       "      <th>competition</th>\n",
       "      <th>renovation</th>\n",
       "      <th>progression</th>\n",
       "      <th>objectives</th>\n",
       "      <th>puzzles</th>\n",
       "      <th>novelty</th>\n",
       "      <th>chances</th>\n",
       "      <th>...</th>\n",
       "      <th>game_genre_fighting</th>\n",
       "      <th>game_genre_other</th>\n",
       "      <th>game_genre_racing</th>\n",
       "      <th>game_genre_rhythm</th>\n",
       "      <th>game_genre_role playing game</th>\n",
       "      <th>game_genre_simulation</th>\n",
       "      <th>game_genre_sports</th>\n",
       "      <th>game_genre_strategy</th>\n",
       "      <th>game_setting_Multiplayer (Playing with other people)</th>\n",
       "      <th>game_setting_Singleplayer (Playing solo)</th>\n",
       "    </tr>\n",
       "  </thead>\n",
       "  <tbody>\n",
       "    <tr>\n",
       "      <th>0</th>\n",
       "      <td>1</td>\n",
       "      <td>1</td>\n",
       "      <td>0</td>\n",
       "      <td>1</td>\n",
       "      <td>0</td>\n",
       "      <td>1</td>\n",
       "      <td>1</td>\n",
       "      <td>0</td>\n",
       "      <td>1</td>\n",
       "      <td>0</td>\n",
       "      <td>...</td>\n",
       "      <td>False</td>\n",
       "      <td>False</td>\n",
       "      <td>False</td>\n",
       "      <td>False</td>\n",
       "      <td>False</td>\n",
       "      <td>False</td>\n",
       "      <td>False</td>\n",
       "      <td>False</td>\n",
       "      <td>False</td>\n",
       "      <td>True</td>\n",
       "    </tr>\n",
       "    <tr>\n",
       "      <th>1</th>\n",
       "      <td>0</td>\n",
       "      <td>0</td>\n",
       "      <td>0</td>\n",
       "      <td>1</td>\n",
       "      <td>0</td>\n",
       "      <td>1</td>\n",
       "      <td>0</td>\n",
       "      <td>0</td>\n",
       "      <td>0</td>\n",
       "      <td>0</td>\n",
       "      <td>...</td>\n",
       "      <td>False</td>\n",
       "      <td>False</td>\n",
       "      <td>False</td>\n",
       "      <td>False</td>\n",
       "      <td>False</td>\n",
       "      <td>False</td>\n",
       "      <td>False</td>\n",
       "      <td>False</td>\n",
       "      <td>False</td>\n",
       "      <td>True</td>\n",
       "    </tr>\n",
       "    <tr>\n",
       "      <th>2</th>\n",
       "      <td>1</td>\n",
       "      <td>1</td>\n",
       "      <td>1</td>\n",
       "      <td>1</td>\n",
       "      <td>0</td>\n",
       "      <td>1</td>\n",
       "      <td>0</td>\n",
       "      <td>1</td>\n",
       "      <td>1</td>\n",
       "      <td>0</td>\n",
       "      <td>...</td>\n",
       "      <td>False</td>\n",
       "      <td>False</td>\n",
       "      <td>False</td>\n",
       "      <td>False</td>\n",
       "      <td>False</td>\n",
       "      <td>False</td>\n",
       "      <td>False</td>\n",
       "      <td>False</td>\n",
       "      <td>True</td>\n",
       "      <td>False</td>\n",
       "    </tr>\n",
       "    <tr>\n",
       "      <th>3</th>\n",
       "      <td>1</td>\n",
       "      <td>1</td>\n",
       "      <td>0</td>\n",
       "      <td>0</td>\n",
       "      <td>0</td>\n",
       "      <td>1</td>\n",
       "      <td>1</td>\n",
       "      <td>1</td>\n",
       "      <td>0</td>\n",
       "      <td>1</td>\n",
       "      <td>...</td>\n",
       "      <td>False</td>\n",
       "      <td>False</td>\n",
       "      <td>False</td>\n",
       "      <td>False</td>\n",
       "      <td>False</td>\n",
       "      <td>False</td>\n",
       "      <td>False</td>\n",
       "      <td>False</td>\n",
       "      <td>False</td>\n",
       "      <td>True</td>\n",
       "    </tr>\n",
       "    <tr>\n",
       "      <th>4</th>\n",
       "      <td>0</td>\n",
       "      <td>0</td>\n",
       "      <td>1</td>\n",
       "      <td>0</td>\n",
       "      <td>0</td>\n",
       "      <td>0</td>\n",
       "      <td>1</td>\n",
       "      <td>0</td>\n",
       "      <td>0</td>\n",
       "      <td>0</td>\n",
       "      <td>...</td>\n",
       "      <td>False</td>\n",
       "      <td>False</td>\n",
       "      <td>False</td>\n",
       "      <td>False</td>\n",
       "      <td>False</td>\n",
       "      <td>False</td>\n",
       "      <td>False</td>\n",
       "      <td>False</td>\n",
       "      <td>False</td>\n",
       "      <td>True</td>\n",
       "    </tr>\n",
       "  </tbody>\n",
       "</table>\n",
       "<p>5 rows × 80 columns</p>\n",
       "</div>"
      ],
      "text/plain": [
       "   points  levels  cooperation  competition  renovation  progression  \\\n",
       "0       1       1            0            1           0            1   \n",
       "1       0       0            0            1           0            1   \n",
       "2       1       1            1            1           0            1   \n",
       "3       1       1            0            0           0            1   \n",
       "4       0       0            1            0           0            0   \n",
       "\n",
       "   objectives  puzzles  novelty  chances  ...  game_genre_fighting  \\\n",
       "0           1        0        1        0  ...                False   \n",
       "1           0        0        0        0  ...                False   \n",
       "2           0        1        1        0  ...                False   \n",
       "3           1        1        0        1  ...                False   \n",
       "4           1        0        0        0  ...                False   \n",
       "\n",
       "   game_genre_other  game_genre_racing  game_genre_rhythm  \\\n",
       "0             False              False              False   \n",
       "1             False              False              False   \n",
       "2             False              False              False   \n",
       "3             False              False              False   \n",
       "4             False              False              False   \n",
       "\n",
       "   game_genre_role playing game  game_genre_simulation  game_genre_sports  \\\n",
       "0                         False                  False              False   \n",
       "1                         False                  False              False   \n",
       "2                         False                  False              False   \n",
       "3                         False                  False              False   \n",
       "4                         False                  False              False   \n",
       "\n",
       "   game_genre_strategy  game_setting_Multiplayer (Playing with other people)  \\\n",
       "0                False                                              False      \n",
       "1                False                                              False      \n",
       "2                False                                               True      \n",
       "3                False                                              False      \n",
       "4                False                                              False      \n",
       "\n",
       "   game_setting_Singleplayer (Playing solo)  \n",
       "0                                      True  \n",
       "1                                      True  \n",
       "2                                     False  \n",
       "3                                      True  \n",
       "4                                      True  \n",
       "\n",
       "[5 rows x 80 columns]"
      ]
     },
     "execution_count": 155,
     "metadata": {},
     "output_type": "execute_result"
    }
   ],
   "source": [
    "from mlxtend.frequent_patterns import apriori, association_rules\n",
    "\n",
    "columns_to_binarize = ['gender', 'age_group', 'country', 'years_playing', 'time_per_week', 'game_genre', 'game_setting']\n",
    "df_binarized = pd.get_dummies(df, columns=columns_to_binarize, prefix=columns_to_binarize)\n",
    "# Remover itens de columns_to_binarize que estão presentes como chaves em filterBy\n",
    "columns_to_binarize = [col for col in columns_to_binarize if col not in filterBy.keys()]\n",
    "# Print se algum item foi removido\n",
    "if len(columns_to_binarize) != len(df.columns):\n",
    "    print(f\"Removendo {len(columns_to_binarize)} colunas de binarização que estão presentes em filterBy.\")\n",
    "\n",
    "# criar coluna binária somente para colunas de interesse alto\n",
    "def transform_scale_to_binary(df, column):\n",
    "    \"\"\"\n",
    "    Transforma uma coluna de escala de 1 a 5 em uma coluna binária (0 ou 1).\n",
    "    \"\"\"\n",
    "    # Verifica se a coluna existe no DataFrame\n",
    "    if column in df.columns:\n",
    "        # Aplica a transformação\n",
    "        df[column] = df[column].apply(lambda x: 1 if x > 3 else 0)\n",
    "        # print(f\"Coluna '{column}' transformada para binária.\")\n",
    "    else:\n",
    "        print(f\"Coluna '{column}' não encontrada no DataFrame.\")\n",
    "    \n",
    "# Aplicar a transformação para as colunas desejadas\n",
    "columns_to_transform = ['points', 'levels', 'cooperation', 'competition', 'renovation',\n",
    "                        'progression', 'objectives', 'puzzles', 'novelty', 'chances',\n",
    "                         'social_pressure', 'acknowledgment', 'stats', 'rarity',\n",
    "                         'imposed_choice', 'time_pressure', 'economy', 'sensation',\n",
    "                         'reputation', 'narrative', 'storytelling']  # Substitua pelos nomes das colunas que deseja transformar\n",
    "for col in columns_to_transform:\n",
    "    if col in df_binarized.columns:\n",
    "        transform_scale_to_binary(df_binarized, col)\n",
    "\n",
    "# Salvar o DataFrame binarizado (opcional)\n",
    "binarized_file_path = \"assets/Binarized_\" + csv_filename\n",
    "df_binarized.to_csv(binarized_file_path, index=False)\n",
    "df_binarized.head()"
   ]
  },
  {
   "cell_type": "markdown",
   "id": "87c7cf2f",
   "metadata": {},
   "source": [
    "## Execução do Algoritmo Apriori\n",
    "\n",
    "Nesse processo serão definidos algumas variáveis iniciais e depois a mineração será executada."
   ]
  },
  {
   "cell_type": "code",
   "execution_count": 156,
   "id": "9fde7fa3",
   "metadata": {},
   "outputs": [
    {
     "name": "stderr",
     "output_type": "stream",
     "text": [
      "/Users/realima/Work/UFPA/PythonProjects/SAGEMining/.venv/lib/python3.12/site-packages/mlxtend/frequent_patterns/fpcommon.py:161: DeprecationWarning:\n",
      "\n",
      "DataFrames with non-bool types result in worse computationalperformance and their support might be discontinued in the future.Please use a DataFrame with bool type\n",
      "\n"
     ]
    }
   ],
   "source": [
    "frequent_itemsets = apriori(df_binarized, min_support=min_support, use_colnames=True)\n",
    "\n",
    "# print(\"\\nConjuntos frequentes:\")\n",
    "# print(frequent_itemsets)\n",
    "\n",
    "# Gerar regras de associação\n",
    "num_itemsets = df.columns.size # Número total de colunas no começo do tratamento\n",
    "rules = association_rules(frequent_itemsets, num_itemsets=num_itemsets, metric=\"confidence\", min_threshold=confidence)\n",
    "\n",
    "#Aplicando filtro no antecedents e consequents dos resultados\n",
    "rules = rules[rules['antecedents'].apply(len) + rules['consequents'].apply(len) > min_products]\n",
    "# Remover regras que contenham \"progression\" ou \"objectives\" em qualquer lado\n",
    "rules = rules[\n",
    "    ~rules['antecedents'].apply(lambda x: 'progression' in x or 'objectives' in x) &\n",
    "    ~rules['consequents'].apply(lambda x: 'progression' in x or 'objectives' in x)\n",
    "]\n",
    "\n",
    "# Converter 'antecedents' e 'consequents' de frozenset para string\n",
    "rules['antecedents'] = rules['antecedents'].apply(lambda x: ', '.join(list(x)))\n",
    "rules['consequents'] = rules['consequents'].apply(lambda x: ', '.join(list(x)))\n",
    "\n",
    "rules.head()\n",
    "\n",
    "rule_file_path = \"assets/rules_\" + csv_filename\n",
    "rules.to_csv(rule_file_path, index=False)"
   ]
  },
  {
   "cell_type": "markdown",
   "id": "2522729a",
   "metadata": {},
   "source": [
    "# Plotting de Resultados\n",
    "Pesquisando maneiras de visualizar os resultados de associação encontrei um artigo que apresentava de maneira intuitiva e interativa o plot do "
   ]
  },
  {
   "cell_type": "code",
   "execution_count": 157,
   "id": "25843330",
   "metadata": {},
   "outputs": [
    {
     "data": {
      "text/plain": [
       "True"
      ]
     },
     "execution_count": 157,
     "metadata": {},
     "output_type": "execute_result"
    }
   ],
   "source": [
    "import plotly.express as px\n",
    "import webbrowser\n",
    "\n",
    "fig = px.scatter(\n",
    "    rules,\n",
    "    title=\"Regras de Associação SAGE Dataset: Mapa Confidence x Lift com calor por Support\",\n",
    "    hover_data=['antecedents', 'consequents'],  # Mostrar os antecedentes e consequentes ao passar o mouse\n",
    "    \n",
    "    x='confidence',  # Eixo X\n",
    "    y='lift',   # Eixo Y\n",
    "    color='support',  # Tamanho dos pontos baseado no suporte\n",
    "    size='support',  # Tamanho dos pontos baseado no suporte,\n",
    ")\n",
    "\n",
    "# Exibir o gráfico\n",
    "fig.write_html('plot.html')\n",
    "# Caminho para o arquivo HTML gerado\n",
    "plot_file_path = os.path.abspath(\"plot.html\")\n",
    "\n",
    "# Abrir o arquivo no navegador padrão\n",
    "webbrowser.open(f\"file://{plot_file_path}\")"
   ]
  }
 ],
 "metadata": {
  "kernelspec": {
   "display_name": ".venv",
   "language": "python",
   "name": "python3"
  },
  "language_info": {
   "codemirror_mode": {
    "name": "ipython",
    "version": 3
   },
   "file_extension": ".py",
   "mimetype": "text/x-python",
   "name": "python",
   "nbconvert_exporter": "python",
   "pygments_lexer": "ipython3",
   "version": "3.12.7"
  }
 },
 "nbformat": 4,
 "nbformat_minor": 5
}
