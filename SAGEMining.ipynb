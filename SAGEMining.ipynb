{
 "cells": [
  {
   "cell_type": "markdown",
   "id": "68cd071d",
   "metadata": {},
   "source": [
    "# Mineração de Regras de Associação do Dataset SAGE\n",
    "_Refinamento e busca de padrões para desenvolvimento de experiências gamificadas_\n",
    "\n",
    "Para o primeiro trabalho da disciplina de Inteligência Computacional, devemos selecionar um dataset público para mineração de dados resultando na coleta de regras de associação.\n",
    "\n",
    "O dataset utilizado foi publicado através de uma pesquisa com o intuito de ampliar a base de dados ligadas a jogos gamificados com o propósito de analisar as preferências de usuários e como enchergam diversas características ligadas ao game design.\n",
    "\n",
    "## Link para publicação\n",
    "[SAGE: A dataset for Smart Adaptive Gamified Education](https://sol.sbc.org.br/index.php/sbie/article/view/26738/26557)\n",
    "\n",
    "O [dataset original](https://github.com/ArmandoToda/Paper_SBIE2023) pode ser encontrado no repositório do autor no github.\n",
    "\n",
    "__Essa documentação também está disponível no [documento jupyter](SAGEMining.ipynb)__"
   ]
  },
  {
   "cell_type": "markdown",
   "id": "aa9b9903",
   "metadata": {},
   "source": [
    "# Metodologia\n",
    "Criei o repositório e arquivo jupyter para executar as etapas de mineração necessárias para busca de regras de associação:"
   ]
  },
  {
   "cell_type": "markdown",
   "id": "c540b0ad",
   "metadata": {},
   "source": [
    "## Definição de variáveis para operação do projeto"
   ]
  },
  {
   "cell_type": "code",
   "execution_count": 4,
   "id": "7b7dcfa2",
   "metadata": {},
   "outputs": [],
   "source": [
    "import os\n",
    "import pandas as pd\n",
    "import requests\n",
    "\n",
    "csv_filename = \"SAGEDataset.csv\"\n",
    "# URL do arquivo XLSX no GitHub\n",
    "xlsx_url = \"https://github.com/ArmandoToda/Paper_SBIE2023/raw/main/DATA.xlsx\"\n",
    "# Nome temporário para o arquivo XLSX baixado\n",
    "xlsx_filename = \"DATA.xlsx\""
   ]
  },
  {
   "cell_type": "markdown",
   "id": "ac44296d",
   "metadata": {},
   "source": [
    "## Obtenção do dataset"
   ]
  },
  {
   "cell_type": "code",
   "execution_count": 7,
   "id": "f8ae5786",
   "metadata": {},
   "outputs": [
    {
     "name": "stdout",
     "output_type": "stream",
     "text": [
      "SAGEDataset.csv não encontrado. Baixando e convertendo...\n",
      "Arquivo baixado: DATA.xlsx\n",
      "Arquivo convertido para CSV: SAGEDataset.csv\n",
      "Arquivo temporário removido: DATA.xlsx\n"
     ]
    }
   ],
   "source": [
    "if not os.path.exists(\"assets/\"+csv_filename):\n",
    "    print(f\"{csv_filename} não encontrado. Baixando e convertendo...\")\n",
    "    \n",
    "    # Baixa o arquivo XLSX\n",
    "    response = requests.get(xlsx_url)\n",
    "    if response.status_code == 200:\n",
    "        with open(xlsx_filename, \"wb\") as file:\n",
    "            file.write(response.content)\n",
    "        print(f\"Arquivo baixado: {xlsx_filename}\")\n",
    "    else:\n",
    "        raise Exception(f\"Falha ao baixar o arquivo. Status code: {response.status_code}\")\n",
    "    \n",
    "    \"\"\"Converte um arquivo XLSX para CSV.\"\"\"\n",
    "    try:\n",
    "        data = pd.read_excel(xlsx_filename)\n",
    "        data.to_csv(\"assets/\"+csv_filename, index=False)\n",
    "        print(f\"Arquivo convertido para CSV: {csv_filename}\")\n",
    "    except Exception as e:\n",
    "        raise Exception(f\"Erro ao converter XLSX para CSV: {e}\")\n",
    "    \n",
    "    # Remove o arquivo XLSX temporário\n",
    "    if os.path.exists(xlsx_filename):\n",
    "        os.remove(xlsx_filename)\n",
    "        print(f\"Arquivo temporário removido: {xlsx_filename}\")\n",
    "else:\n",
    "    print(f\"{csv_filename} já existe. Nenhuma ação necessária.\")"
   ]
  },
  {
   "cell_type": "markdown",
   "id": "18e77143",
   "metadata": {},
   "source": []
  },
  {
   "cell_type": "markdown",
   "id": "12ce5139",
   "metadata": {},
   "source": [
    "## Preparação dos dados (em desenvolvimento)"
   ]
  },
  {
   "cell_type": "code",
   "execution_count": 10,
   "id": "12dcaa21",
   "metadata": {},
   "outputs": [
    {
     "name": "stdout",
     "output_type": "stream",
     "text": [
      "Primeiras linhas do dataset:\n",
      "   gender age_group  age_in_years         country  years_playing  \\\n",
      "0    Male   25 - 34            31  United Kingdom             25   \n",
      "1    Male       <15            14   United States              6   \n",
      "2  Female   15 - 24            23   United States             10   \n",
      "3    Male   15 - 24            20          Brazil             18   \n",
      "4    Male   15 - 24            20          Brazil             17   \n",
      "\n",
      "   time_per_week                                         game_genre  \\\n",
      "0             30  Action: emphasizes physical challenges, includ...   \n",
      "1             30  Action: emphasizes physical challenges, includ...   \n",
      "2              5  Action: emphasizes physical challenges, includ...   \n",
      "3             15  Action: emphasizes physical challenges, includ...   \n",
      "4              4  Action: emphasizes physical challenges, includ...   \n",
      "\n",
      "                              game_setting  points  levels  ...  \\\n",
      "0              Singleplayer (Playing solo)       4       5  ...   \n",
      "1              Singleplayer (Playing solo)       2       2  ...   \n",
      "2  Multiplayer (Playing with other people)       5       4  ...   \n",
      "3              Singleplayer (Playing solo)       5       4  ...   \n",
      "4              Singleplayer (Playing solo)       2       3  ...   \n",
      "\n",
      "   acknowledgment  stats  rarity  imposed_choice  time_pressure  economy  \\\n",
      "0               5      4       4               3              2        4   \n",
      "1               1      5       4               2              2        2   \n",
      "2               4      3       3               4              2        4   \n",
      "3               3      5       2               3              1        5   \n",
      "4               5      3       2               3              3        2   \n",
      "\n",
      "   sensation  reputation  narrative  storytelling  \n",
      "0          4           4          5             5  \n",
      "1          5           1          4             4  \n",
      "2          3           3          5             4  \n",
      "3          5           1          5             5  \n",
      "4          4           3          2             2  \n",
      "\n",
      "[5 rows x 29 columns]\n",
      "\n",
      "Informações do dataset:\n",
      "<class 'pandas.core.frame.DataFrame'>\n",
      "RangeIndex: 1912 entries, 0 to 1911\n",
      "Data columns (total 29 columns):\n",
      " #   Column           Non-Null Count  Dtype \n",
      "---  ------           --------------  ----- \n",
      " 0   gender           1912 non-null   object\n",
      " 1   age_group        1912 non-null   object\n",
      " 2   age_in_years     1912 non-null   int64 \n",
      " 3   country          1912 non-null   object\n",
      " 4   years_playing    1912 non-null   int64 \n",
      " 5   time_per_week    1912 non-null   int64 \n",
      " 6   game_genre       1912 non-null   object\n",
      " 7   game_setting     1912 non-null   object\n",
      " 8   points           1912 non-null   int64 \n",
      " 9   levels           1912 non-null   int64 \n",
      " 10  cooperation      1912 non-null   int64 \n",
      " 11  competition      1912 non-null   int64 \n",
      " 12  renovation       1912 non-null   int64 \n",
      " 13  progression      1912 non-null   int64 \n",
      " 14  objectives       1912 non-null   int64 \n",
      " 15  puzzles          1912 non-null   int64 \n",
      " 16  novelty          1912 non-null   int64 \n",
      " 17  chances          1912 non-null   int64 \n",
      " 18  social_pressure  1912 non-null   int64 \n",
      " 19  acknowledgment   1912 non-null   int64 \n",
      " 20  stats            1912 non-null   int64 \n",
      " 21  rarity           1912 non-null   int64 \n",
      " 22  imposed_choice   1912 non-null   int64 \n",
      " 23  time_pressure    1912 non-null   int64 \n",
      " 24  economy          1912 non-null   int64 \n",
      " 25  sensation        1912 non-null   int64 \n",
      " 26  reputation       1912 non-null   int64 \n",
      " 27  narrative        1912 non-null   int64 \n",
      " 28  storytelling     1912 non-null   int64 \n",
      "dtypes: int64(24), object(5)\n",
      "memory usage: 433.3+ KB\n",
      "None\n"
     ]
    }
   ],
   "source": [
    "try:\n",
    "    df = pd.read_csv(\"assets/\"+csv_filename)  # Use csv_filename em vez de file_path\n",
    "    print(\"Primeiras linhas do dataset:\")\n",
    "    print(df.head())  # Exibe as primeiras linhas do DataFrame\n",
    "    print(\"\\nInformações do dataset:\")\n",
    "    print(df.info())  # Exibe informações sobre o DataFrame\n",
    "except Exception as e:\n",
    "    print(f\"Erro ao carregar o arquivo CSV: {e}\")"
   ]
  },
  {
   "cell_type": "markdown",
   "id": "87c7cf2f",
   "metadata": {},
   "source": [
    "## Execução do algoritmo apriori (em desenvolvimento)"
   ]
  }
 ],
 "metadata": {
  "kernelspec": {
   "display_name": ".venv",
   "language": "python",
   "name": "python3"
  },
  "language_info": {
   "codemirror_mode": {
    "name": "ipython",
    "version": 3
   },
   "file_extension": ".py",
   "mimetype": "text/x-python",
   "name": "python",
   "nbconvert_exporter": "python",
   "pygments_lexer": "ipython3",
   "version": "3.12.7"
  }
 },
 "nbformat": 4,
 "nbformat_minor": 5
}
